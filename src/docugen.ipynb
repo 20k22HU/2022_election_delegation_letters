{
 "cells": [
  {
   "cell_type": "markdown",
   "id": "f4f25983-fff1-43b6-967b-8ba3bf5ec285",
   "metadata": {
    "tags": []
   },
   "source": [
    "## 1. installing required python libraries"
   ]
  },
  {
   "cell_type": "code",
   "execution_count": 1,
   "id": "cdf271cd-aca3-414c-acb2-bf1963911292",
   "metadata": {},
   "outputs": [],
   "source": [
    "%%capture\n",
    "%pip install jinja2"
   ]
  },
  {
   "cell_type": "markdown",
   "id": "94c0206b-b530-46a8-8633-6343a8293d01",
   "metadata": {
    "tags": []
   },
   "source": [
    "## 2. generating documents (having data or testdata is prerequisite)"
   ]
  },
  {
   "cell_type": "code",
   "execution_count": 2,
   "id": "6365bc98-5dd2-413d-af60-375bc9775db4",
   "metadata": {},
   "outputs": [],
   "source": [
    "# merging user data and template into html files\n",
    "\n",
    "import json\n",
    "import random\n",
    "from jinja2 import Template\n",
    "\n",
    "\n",
    "def read_users(file_str='../input/user_testdata.json'):\n",
    "    \"\"\"reads the user json dump file and returns as json variable\"\"\"\n",
    "    with open(file_str, 'r', encoding='utf-8') as f:\n",
    "        oevks = json.load(f)\n",
    "    return oevks\n",
    "\n",
    "\n",
    "def read_letter_template(file_str='../input/megbizolevel_teszt.html'):\n",
    "    \"\"\"reads the mail template file and returns it as text variable\"\"\"\n",
    "    with open(file_str, 'r', encoding='utf-8') as f:\n",
    "        template = Template(f.read())\n",
    "    return template\n",
    "\n",
    "\n",
    "def generate_documents(user_json_obj, jinja_template):\n",
    "    \"\"\"generating all documents using the template and the user db\"\"\"\n",
    "    path = \"../output/\"\n",
    "    for oevk in user_json_obj:\n",
    "        for tevk in oevk['tevks']:\n",
    "            filename = f\"OEVK{oevk['id']}_TEVK{tevk['id']}\"\\\n",
    "                f\"_szszb_megbizo_{oevk['name']}_{tevk['name']}\"\\\n",
    "                f\"_hitelesitett.html\"\n",
    "            result = jinja_template.render(tevk = tevk)\n",
    "            with open(path+filename, 'w', encoding='utf-8') as f:\n",
    "                f.write(result)\n",
    "\n",
    "                \n",
    "generate_documents(\n",
    "    read_users(),\n",
    "    read_letter_template()\n",
    "    )"
   ]
  },
  {
   "cell_type": "markdown",
   "id": "c18b5333-c620-4113-80d2-6f9a4c32f700",
   "metadata": {
    "tags": []
   },
   "source": [
    "## 3. installing libreoffice writer for pdf conversion"
   ]
  },
  {
   "cell_type": "code",
   "execution_count": 3,
   "id": "4a282c4c-69c1-4930-b847-7a36eef4a0ce",
   "metadata": {},
   "outputs": [],
   "source": [
    "%%capture\n",
    "!apt-get -qq install -y libreoffice-writer"
   ]
  },
  {
   "cell_type": "markdown",
   "id": "50bc0d4c-dc6a-4ddb-b181-8c2efa96e33d",
   "metadata": {
    "tags": []
   },
   "source": [
    "## 4. converting HTMLs to PDFs and zipping them for download"
   ]
  },
  {
   "cell_type": "code",
   "execution_count": null,
   "id": "ea44aa72-9766-4e20-9340-91130dd8bd57",
   "metadata": {},
   "outputs": [],
   "source": [
    "%%bash\n",
    "\n",
    "cd /home/jupyter/20k_docgen/output/\n",
    "\n",
    "for f in *.html ; do lowriter --headless --convert-to pdf \"$f\" ; done\n",
    "zip /home/jupyter/20k_docgen/pub/500_megbizo_html.zip /home/jupyter/20k_docgen/output/*.pdf"
   ]
  }
 ],
 "metadata": {
  "kernelspec": {
   "display_name": "Python 3 (ipykernel)",
   "language": "python",
   "name": "python3"
  },
  "language_info": {
   "codemirror_mode": {
    "name": "ipython",
    "version": 3
   },
   "file_extension": ".py",
   "mimetype": "text/x-python",
   "name": "python",
   "nbconvert_exporter": "python",
   "pygments_lexer": "ipython3",
   "version": "3.7.12"
  }
 },
 "nbformat": 4,
 "nbformat_minor": 5
}
